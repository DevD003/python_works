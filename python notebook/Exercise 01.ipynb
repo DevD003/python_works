{
 "cells": [
  {
   "cell_type": "markdown",
   "metadata": {},
   "source": [
    "## Find the max of three numbers in a list. \n",
    "Sample List: [2,77,3] Expected Output: 77 \n",
    "There is a cheat method and a non-cheat method"
   ]
  },
  {
   "cell_type": "code",
   "execution_count": 1,
   "metadata": {},
   "outputs": [
    {
     "name": "stdout",
     "output_type": "stream",
     "text": [
      "The Max no. in list is 77\n"
     ]
    },
    {
     "data": {
      "text/plain": [
       "77"
      ]
     },
     "execution_count": 1,
     "metadata": {},
     "output_type": "execute_result"
    }
   ],
   "source": [
    "x = [2,77,3]\n",
    "max_no = max (x)\n",
    "print (\"The Max no. in list is {}\".format(max_no))\n",
    "\n",
    "def max_of_list(i):\n",
    "    return max(i)\n",
    "\n",
    "def max_of_list2(i):\n",
    "    num=0\n",
    "    for i in x:\n",
    "        if i >= num:\n",
    "            num=i\n",
    "    return num\n",
    "\n",
    "max_of_list(x)\n",
    "\n",
    "max_of_list2(x)"
   ]
  },
  {
   "cell_type": "markdown",
   "metadata": {},
   "source": [
    "## Write a Python function to multiply all the numbers in a list.\n",
    "Sample List : [4, 10, 4, 1, 8] Expected Output : 1280 \n",
    "Hint: Use a loop and initialse a variable outside of the loop."
   ]
  },
  {
   "cell_type": "code",
   "execution_count": 2,
   "metadata": {},
   "outputs": [
    {
     "name": "stdout",
     "output_type": "stream",
     "text": [
      "Product od list is 1280\n"
     ]
    }
   ],
   "source": [
    "list = [4,10,4,1,8]\n",
    "\n",
    "def multiply_list(i):\n",
    "    x=1\n",
    "    for i in list:\n",
    "        x*=i\n",
    "    return x\n",
    "\n",
    "product = multiply_list(list)\n",
    "\n",
    "print (\"Product od list is {}\".format(product))\n",
    "    "
   ]
  },
  {
   "cell_type": "markdown",
   "metadata": {},
   "source": [
    "## Write a Python function that accepts a string and calculate the number of upper case letters and lower case letters. \n",
    "#Try not including Spaces as extra challenge!\n",
    "\n",
    "Sample String : 'This ExERCise is AweSomE'\n",
    "Expected Output : \n",
    "    No. of Upper case characters : 8 \n",
    "    No. of Lower case Characters : 13\n",
    "Hint: create a loop to loop through all characters in a string Use .isupper() and islower() methods on a string to check whether or not a character is uppercase or lowercase or neither"
   ]
  },
  {
   "cell_type": "code",
   "execution_count": 3,
   "metadata": {},
   "outputs": [
    {
     "name": "stdout",
     "output_type": "stream",
     "text": [
      "n(upper_case) letters = 6\n",
      "n(lower_case) letters = 12\n"
     ]
    }
   ],
   "source": [
    "def letter_case_calc(x):\n",
    "    upper_count=0\n",
    "    lower_count=0\n",
    "    space_count=0\n",
    "    \n",
    "    for i in x:\n",
    "        if i.isupper():\n",
    "            upper_count+=1\n",
    "        elif i.islower():\n",
    "            lower_count+=1\n",
    "        else:\n",
    "            space_count+=1\n",
    "    print (\"n(upper_case) letters = {}\".format(upper_count))\n",
    "    print (\"n(lower_case) letters = {}\".format(lower_count))\n",
    "\n",
    "x=\"let ME gO at It in AGain\"\n",
    "\n",
    "letter_case_calc(x)"
   ]
  },
  {
   "cell_type": "markdown",
   "metadata": {},
   "source": [
    "## Exercise 4\n",
    "\n",
    "Write a Python function that takes a list and returns a new list with unique elements of the first list. \n",
    "Sample List : [1,2,3,3,3,3,4,5] Expected Output : [1, 2, 3, 4, 5]\n",
    "\n",
    "Hint: Need to compare one variable with the other and store in a LIST variable. \n",
    "Use the conditional statement (not in).. If (something not in something).. Append to list\n"
   ]
  },
  {
   "cell_type": "code",
   "execution_count": 46,
   "metadata": {},
   "outputs": [
    {
     "name": "stdout",
     "output_type": "stream",
     "text": [
      "[1, 2, 3, 4, 5]\n"
     ]
    }
   ],
   "source": [
    "def unique(li):\n",
    "    x = []\n",
    "    \n",
    "    for i in li:\n",
    "        if (i not in x):\n",
    "            x.append(i)\n",
    "            \n",
    "    print(x)\n",
    "\n",
    "x = [1,2,3,3,3,3,4,4,5]\n",
    "\n",
    "unique(x)"
   ]
  },
  {
   "cell_type": "markdown",
   "metadata": {},
   "source": [
    "##Write a Python program to print the even numbers from a given list. \n",
    "Sample List : [1, 2, 3, 4, 5, 6, 7, 8, 9] Expected Result : [2, 4, 6, 8]"
   ]
  },
  {
   "cell_type": "code",
   "execution_count": 48,
   "metadata": {},
   "outputs": [
    {
     "name": "stdout",
     "output_type": "stream",
     "text": [
      "[2, 4, 6, 8]\n"
     ]
    }
   ],
   "source": [
    "def even_list(li):\n",
    "    x=[]\n",
    "    for i in li:\n",
    "        if (i%2==0):\n",
    "            x.append(i)\n",
    "    print(x)\n",
    "\n",
    "lis = [1,2,3,4,5,6,7,8,9]\n",
    "even_list(lis)"
   ]
  },
  {
   "cell_type": "code",
   "execution_count": null,
   "metadata": {},
   "outputs": [],
   "source": []
  }
 ],
 "metadata": {
  "kernelspec": {
   "display_name": "Python 3",
   "language": "python",
   "name": "python3"
  },
  "language_info": {
   "codemirror_mode": {
    "name": "ipython",
    "version": 3
   },
   "file_extension": ".py",
   "mimetype": "text/x-python",
   "name": "python",
   "nbconvert_exporter": "python",
   "pygments_lexer": "ipython3",
   "version": "3.7.1"
  }
 },
 "nbformat": 4,
 "nbformat_minor": 2
}
