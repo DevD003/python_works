{
 "cells": [
  {
   "cell_type": "markdown",
   "metadata": {},
   "source": [
    "Now we are starting to get to the core of programming. Functions.\n",
    "Why do we need functions? I will give you an example below:"
   ]
  },
  {
   "cell_type": "code",
   "execution_count": null,
   "metadata": {},
   "outputs": [],
   "source": [
    "x = 5\n",
    "x = x * 5\n",
    "x = x /20\n",
    "x = x +89\n",
    "\n",
    "y = 10 \n",
    "y = y * 5\n",
    "y = y /20\n",
    "y = y +89\n",
    "\n",
    "z = 25\n",
    "z = z * 5\n",
    "z = z /20\n",
    "z = z +89\n",
    "\n",
    "#What do you notice in the above equations? The operations performed on each of these variables are exactly the same.\n",
    "#The only difference is the variable values. This exactly why we need to use functions. \n",
    "#We can place these repeating codes into the function and call it."
   ]
  },
  {
   "cell_type": "markdown",
   "metadata": {},
   "source": [
    "The general syntax of functions in python:\n",
    "You can have as many arguments as you want\n",
    "\n",
    "def Function_Name(arg1, arg2, arg3, argn):\n",
    "    action 1\n",
    "    action 2\n",
    "    return result1, result2, resultn \n",
    "    \n",
    "Or you don't have to return anything and just want to perform an action:\n",
    "\n",
    "def function_name(arg1, arg2 etc):\n",
    "    action1\n",
    "    \n",
    "You call the function simply by:\n",
    "function_name(arg1, arg2 etc)\n",
    "\n",
    "You can store the function results by:\n",
    "result = function_name(arg1, arg2 etc)"
   ]
  },
  {
   "cell_type": "code",
   "execution_count": 5,
   "metadata": {},
   "outputs": [
    {
     "name": "stdout",
     "output_type": "stream",
     "text": [
      "90.25 91.5 95.25\n"
     ]
    }
   ],
   "source": [
    "#From the above example we will attempt to write a function to replace\n",
    "#the many mathematical operations\n",
    "# again i can be whateves\n",
    "\n",
    "def math_operation(i):\n",
    "    i = i *5\n",
    "    i = i /20\n",
    "    i = i + 89\n",
    "    #return the result\n",
    "    return i\n",
    "\n",
    "x = 5\n",
    "y = 10\n",
    "z = 25\n",
    "\n",
    "#Store the results of the functions\n",
    "x = math_operation(x)\n",
    "y = math_operation(y)\n",
    "z = math_operation(z)\n",
    "\n",
    "print(x, y, z)\n"
   ]
  },
  {
   "cell_type": "markdown",
   "metadata": {},
   "source": [
    "CONCEPT OF DRY CODE\n",
    "Using the examples above of the math_operation function what did we achieve by using the function rather than just writing it all out? We made our code drier. What I mean is that we achieved the same outcome but using less code. Dry Code is what all programmers want to achieve. Imagine if the math operation was 20 lines long, and it needs to be repeated 1000 times. Without using any functions I don't think anyone would be wanting to do that manually."
   ]
  },
  {
   "cell_type": "code",
   "execution_count": 18,
   "metadata": {},
   "outputs": [
    {
     "name": "stdout",
     "output_type": "stream",
     "text": [
      "6\n",
      "firstpart\n",
      "secondpart\n",
      "I have done something\n"
     ]
    }
   ],
   "source": [
    "#Functions with two arguments and 1 result\n",
    "def multiply(i, k):\n",
    "    return i * k\n",
    "\n",
    "#Function with one argument and 2 results\n",
    "def split(i):\n",
    "    #this takes in a string with two parts separated by comma\n",
    "    return i.split(\",\")\n",
    "\n",
    "#Functions with no arguments and no results\n",
    "def do_something():\n",
    "    print(\"I have done something\")\n",
    "\n",
    "result = multiply(3,2)\n",
    "print(result)\n",
    "\n",
    "res1, res2 = split(\"firstpart,secondpart\")\n",
    "print(res1)\n",
    "print(res2)\n",
    "\n",
    "#Call the do something function with no arguments or results\n",
    "do_something()\n",
    "\n",
    "#Basically I am trying to show you that functions can have as many\n",
    "# arguments and results as it wants\n",
    "    "
   ]
  },
  {
   "cell_type": "code",
   "execution_count": 12,
   "metadata": {},
   "outputs": [
    {
     "name": "stdout",
     "output_type": "stream",
     "text": [
      "Entered my_function\n",
      "6\n"
     ]
    }
   ],
   "source": [
    "# Quick Exercise\n",
    "# I want you to write a simple function with two arguments and two results the function can do anything you \n",
    "# want as long as it uses the two input arguments\n",
    "def my_function(a,s):\n",
    "    print(\"Entered my_function\")\n",
    "    return a*s\n",
    "\n",
    "output=my_function(2,3)\n",
    "\n",
    "print(output)"
   ]
  },
  {
   "cell_type": "code",
   "execution_count": 13,
   "metadata": {},
   "outputs": [
    {
     "name": "stdout",
     "output_type": "stream",
     "text": [
      "5\n"
     ]
    }
   ],
   "source": [
    "#Basics of Scoping\n",
    "#When you write a function you create an internal environment scope\n",
    "#say you have x\n",
    "\n",
    "x = 5 #currently when setting x outside of a function it is in the global scope\n",
    "\n",
    "def function_scope():\n",
    "    x = 6\n",
    "    \n",
    "#We call the function scope\n",
    "function_scope()\n",
    "\n",
    "#What do you think is the result? \n",
    "print(x)\n",
    "\n",
    "# Thats right, x = 5, global scope takes precedence"
   ]
  },
  {
   "cell_type": "code",
   "execution_count": 21,
   "metadata": {},
   "outputs": [
    {
     "ename": "NameError",
     "evalue": "name 'function_variable' is not defined",
     "output_type": "error",
     "traceback": [
      "\u001b[0;31m---------------------------------------------------------------------------\u001b[0m",
      "\u001b[0;31mNameError\u001b[0m                                 Traceback (most recent call last)",
      "\u001b[0;32m<ipython-input-21-ccca897d183f>\u001b[0m in \u001b[0;36m<module>\u001b[0;34m()\u001b[0m\n\u001b[1;32m      4\u001b[0m \u001b[0mfunction_scope\u001b[0m\u001b[0;34m(\u001b[0m\u001b[0;34m)\u001b[0m\u001b[0;34m\u001b[0m\u001b[0m\n\u001b[1;32m      5\u001b[0m \u001b[0;34m\u001b[0m\u001b[0m\n\u001b[0;32m----> 6\u001b[0;31m \u001b[0mprint\u001b[0m\u001b[0;34m(\u001b[0m\u001b[0mfunction_variable\u001b[0m\u001b[0;34m)\u001b[0m\u001b[0;34m\u001b[0m\u001b[0m\n\u001b[0m",
      "\u001b[0;31mNameError\u001b[0m: name 'function_variable' is not defined"
     ]
    }
   ],
   "source": [
    "#What if there was no global scope x and only the x within the function?\n",
    "def function_scope():\n",
    "    function_variable = 6\n",
    "\n",
    "function_scope()\n",
    "\n",
    "#Note that variables defined in the function scope is not replicated\n",
    "#to the global scope\n",
    "print(function_variable)\n"
   ]
  },
  {
   "cell_type": "code",
   "execution_count": 23,
   "metadata": {},
   "outputs": [
    {
     "name": "stdout",
     "output_type": "stream",
     "text": [
      "6\n"
     ]
    },
    {
     "ename": "NameError",
     "evalue": "name 'function_variable' is not defined",
     "output_type": "error",
     "traceback": [
      "\u001b[0;31m---------------------------------------------------------------------------\u001b[0m",
      "\u001b[0;31mNameError\u001b[0m                                 Traceback (most recent call last)",
      "\u001b[0;32m<ipython-input-23-5f11071dd2dc>\u001b[0m in \u001b[0;36m<module>\u001b[0;34m()\u001b[0m\n\u001b[1;32m     10\u001b[0m     \u001b[0mprint\u001b[0m\u001b[0;34m(\u001b[0m\u001b[0mfunction_variable\u001b[0m\u001b[0;34m)\u001b[0m\u001b[0;34m\u001b[0m\u001b[0m\n\u001b[1;32m     11\u001b[0m \u001b[0;34m\u001b[0m\u001b[0m\n\u001b[0;32m---> 12\u001b[0;31m \u001b[0manother_function\u001b[0m\u001b[0;34m(\u001b[0m\u001b[0;34m)\u001b[0m\u001b[0;34m\u001b[0m\u001b[0m\n\u001b[0m",
      "\u001b[0;32m<ipython-input-23-5f11071dd2dc>\u001b[0m in \u001b[0;36manother_function\u001b[0;34m()\u001b[0m\n\u001b[1;32m      8\u001b[0m \u001b[0;34m\u001b[0m\u001b[0m\n\u001b[1;32m      9\u001b[0m \u001b[0;32mdef\u001b[0m \u001b[0manother_function\u001b[0m\u001b[0;34m(\u001b[0m\u001b[0;34m)\u001b[0m\u001b[0;34m:\u001b[0m\u001b[0;34m\u001b[0m\u001b[0m\n\u001b[0;32m---> 10\u001b[0;31m     \u001b[0mprint\u001b[0m\u001b[0;34m(\u001b[0m\u001b[0mfunction_variable\u001b[0m\u001b[0;34m)\u001b[0m\u001b[0;34m\u001b[0m\u001b[0m\n\u001b[0m\u001b[1;32m     11\u001b[0m \u001b[0;34m\u001b[0m\u001b[0m\n\u001b[1;32m     12\u001b[0m \u001b[0manother_function\u001b[0m\u001b[0;34m(\u001b[0m\u001b[0;34m)\u001b[0m\u001b[0;34m\u001b[0m\u001b[0m\n",
      "\u001b[0;31mNameError\u001b[0m: name 'function_variable' is not defined"
     ]
    }
   ],
   "source": [
    "#Variables defined in the function scope can be used by that function\n",
    "#It cannot be used accross different functions\n",
    "def function_scope():\n",
    "    function_variable = 6\n",
    "    print(function_variable)\n",
    "    \n",
    "function_scope()\n",
    "\n",
    "def another_function():\n",
    "    print(function_variable)\n",
    "    \n",
    "another_function()"
   ]
  },
  {
   "cell_type": "markdown",
   "metadata": {},
   "source": [
    "The best way to learn is by DOING\n",
    "Hence we will be completing 5 exercises for functions.\n",
    "Please aim to complete all 5 before moving on.\n",
    "Please try to do this yourself first before googling or looking at the solutions"
   ]
  },
  {
   "cell_type": "markdown",
   "metadata": {},
   "source": [
    "Exercise 1\n",
    "\n",
    "Find the max of three numbers in a list.\n",
    "Sample List: [2,77,3]\n",
    "Expected Output: 77\n",
    "There is a cheat method and a non-cheat method"
   ]
  },
  {
   "cell_type": "markdown",
   "metadata": {},
   "source": [
    "Exercise 2\n",
    "\n",
    "Write a Python function to multiply all the numbers in a list.\n",
    "Sample List : [4, 10, 4, 1, 8]\n",
    "Expected Output : 1280 \n",
    "Hint: Use a loop and initialse a variable outside of the loop."
   ]
  },
  {
   "cell_type": "markdown",
   "metadata": {},
   "source": [
    "Exercise 3\n",
    "\n",
    "Write a Python function that accepts a string and calculate the number of upper case letters and lower case letters. \n",
    "Try not including Spaces as extra challenge!\n",
    "\n",
    "Sample String : 'This ExERCise is AweSomE'\n",
    "\n",
    "Expected Output : \n",
    "No. of Upper case characters : 8\n",
    "No. of Lower case Characters : 13\n",
    "\n",
    "Hint:\n",
    "create a loop to loop through all characters in a string\n",
    "Use .isupper() and islower() methods on a string to check whether or not a character is uppercase or lowercase or neither"
   ]
  },
  {
   "cell_type": "markdown",
   "metadata": {},
   "source": [
    "Exercise 4\n",
    "\n",
    "Write a Python function that takes a list and returns a new list with unique elements of the first list. \n",
    "Sample List : [1,2,3,3,3,3,4,5]\n",
    "Expected Output : [1, 2, 3, 4, 5]\n",
    "\n",
    "Hint: \n",
    "Need to compare one variable with the other and store in a LIST variable. \n",
    "Use the conditional statement (not in).. If (something not in something)..\n",
    "Append to list"
   ]
  },
  {
   "cell_type": "markdown",
   "metadata": {},
   "source": [
    "Exercise 5\n",
    "\n",
    "Write a Python program to print the even numbers from a given list.\n",
    "Sample List : [1, 2, 3, 4, 5, 6, 7, 8, 9] \n",
    "Expected Result : [2, 4, 6, 8]\n",
    "Hint:\n",
    "Use the modulo % function, if x%2 == ? \n",
    "Append to list"
   ]
  },
  {
   "cell_type": "code",
   "execution_count": null,
   "metadata": {},
   "outputs": [],
   "source": [
    "\n",
    "\n",
    "\n",
    "\n",
    "\n",
    "\n",
    "\n",
    "\n",
    "\n",
    "\n",
    "\n",
    "\n",
    "\n",
    "\n",
    "\n",
    "\n",
    "\n",
    "\n",
    "\n",
    "\n",
    "\n",
    "\n",
    "\n",
    "\n",
    "\n",
    "\n",
    "\n",
    "\n",
    "\n",
    "\n",
    "\n"
   ]
  },
  {
   "cell_type": "markdown",
   "metadata": {},
   "source": [
    "Exercise 1\n",
    "Find the max of three numbers in a list.\n",
    "Sample List: [2,77,3]\n",
    "Expected Output: 77\n",
    "There is a cheat method and a non-cheat method"
   ]
  },
  {
   "cell_type": "code",
   "execution_count": 17,
   "metadata": {},
   "outputs": [
    {
     "name": "stdout",
     "output_type": "stream",
     "text": [
      "77\n",
      "77\n"
     ]
    }
   ],
   "source": [
    "#Exercise 1 solution\n",
    "x = [2,77,3]\n",
    "\n",
    "#cheat way\n",
    "def max_of_3_cheat(i):\n",
    "    return max(i)\n",
    "\n",
    "\n",
    "#Non cheat way\n",
    "# set an aribitary variable to 0\n",
    "def max_of_3(i):\n",
    "    num = 0\n",
    "    for i in x:\n",
    "        if i >= num:\n",
    "            # goes through each variable and if that variable is \n",
    "            # higher than whatever is is highest before than it \n",
    "            # must be max\n",
    "            num = i\n",
    "    return num\n",
    "        \n",
    "print(max_of_3_cheat(x))\n",
    "print(max_of_3(x))"
   ]
  },
  {
   "cell_type": "code",
   "execution_count": null,
   "metadata": {},
   "outputs": [],
   "source": [
    "\n"
   ]
  },
  {
   "cell_type": "markdown",
   "metadata": {},
   "source": [
    "Exercise 2\n",
    "Write a Python function to multiply all the numbers in a list.\n",
    "Sample List : [4, 10, 4, 1, 8]\n",
    "Expected Output : 1280 \n",
    "Hint: Use a loop and initialse a variable outside of the loop."
   ]
  },
  {
   "cell_type": "code",
   "execution_count": 24,
   "metadata": {},
   "outputs": [
    {
     "name": "stdout",
     "output_type": "stream",
     "text": [
      "1280\n"
     ]
    }
   ],
   "source": [
    "# Exercise 2 Solution\n",
    "# Exercise 2\n",
    "# Write a Python function to multiply all the numbers in a list.\n",
    "# Sample List : [4, 10, 4, 1, 8]\n",
    "def multiply(li):\n",
    "    \n",
    "    #again initialise 1 outside variable from the loop\n",
    "    x = 1\n",
    "    \n",
    "    #li is a list\n",
    "    for i in li:\n",
    "        #short for x = x * i\n",
    "        x *= i\n",
    "    \n",
    "    return x\n",
    "\n",
    "x = [4,10,4,1,8]\n",
    "res = multiply(x)\n",
    "print(res)"
   ]
  },
  {
   "cell_type": "code",
   "execution_count": null,
   "metadata": {},
   "outputs": [],
   "source": [
    "\n"
   ]
  },
  {
   "cell_type": "markdown",
   "metadata": {},
   "source": [
    "Exercise 3\n",
    "Write a Python function that accepts a string and calculate the number of upper case letters and lower case letters. \n",
    "Try not including Spaces as extra challenge!\n",
    "\n",
    "Sample String : 'This ExERCise is AweSomE'\n",
    "\n",
    "Expected Output : \n",
    "No. of Upper case characters : 8\n",
    "No. of Lower case Characters : 13\n",
    "\n",
    "Hint:\n",
    "create a loop to loop through all characters in a string\n",
    "Use .isupper() and islower() methods on a string to check whether or not a character is uppercase or lowercase or neither"
   ]
  },
  {
   "cell_type": "code",
   "execution_count": 1,
   "metadata": {},
   "outputs": [
    {
     "name": "stdout",
     "output_type": "stream",
     "text": [
      "No. of Upper case characters : 8\n",
      "No. of Lower case characters : 13\n"
     ]
    }
   ],
   "source": [
    "#Exercise 3 Solution\n",
    "def num_lower_upper(string):\n",
    "    #Create counter outside of the loop\n",
    "    upper=0\n",
    "    lower=0\n",
    "    \n",
    "    #loop through each character in a string and if there is a match with \n",
    "    #either an upper or lower then add to the count\n",
    "    for c in string:\n",
    "        if c.isupper():\n",
    "            upper += 1\n",
    "        elif c.islower():\n",
    "            lower +=1\n",
    "    \n",
    "    print(\"No. of Upper case characters : {}\".format(upper))\n",
    "    print(\"No. of Lower case characters : {}\".format(lower))\n",
    "    \n",
    "x = 'This ExERCise is AweSomE'\n",
    "\n",
    "#Call the function here\n",
    "num_lower_upper(x)"
   ]
  },
  {
   "cell_type": "code",
   "execution_count": null,
   "metadata": {},
   "outputs": [],
   "source": [
    "\n"
   ]
  },
  {
   "cell_type": "markdown",
   "metadata": {},
   "source": [
    "Exercise 4\n",
    "Write a Python function that takes a list and returns a new list with unique elements of the first list. \n",
    "Sample List : [1,2,3,3,3,3,4,5]\n",
    "Expected Output : [1, 2, 3, 4, 5]"
   ]
  },
  {
   "cell_type": "code",
   "execution_count": 3,
   "metadata": {},
   "outputs": [
    {
     "name": "stdout",
     "output_type": "stream",
     "text": [
      "[1, 2, 3, 4, 5]\n"
     ]
    }
   ],
   "source": [
    "#Exercise 4 Solution\n",
    "def unique(li):\n",
    "    #initialise list variable outside of loop\n",
    "    x = []\n",
    "    \n",
    "    for i in li:\n",
    "        if (i not in x):\n",
    "            x.append(i)\n",
    "            \n",
    "    print(x)\n",
    "\n",
    "\n",
    "x = [1,2,3,3,3,3,4,4,5]\n",
    "\n",
    "unique(x)"
   ]
  },
  {
   "cell_type": "code",
   "execution_count": null,
   "metadata": {},
   "outputs": [],
   "source": [
    "\n",
    "\n"
   ]
  },
  {
   "cell_type": "markdown",
   "metadata": {},
   "source": [
    "Exercise 5\n",
    "\n",
    "Write a Python program to print the even numbers from a given list.\n",
    "Sample List : [1, 2, 3, 4, 5, 6, 7, 8, 9] \n",
    "Expected Result : [2, 4, 6, 8]"
   ]
  },
  {
   "cell_type": "code",
   "execution_count": 32,
   "metadata": {},
   "outputs": [
    {
     "name": "stdout",
     "output_type": "stream",
     "text": [
      "[2, 4, 6, 8]\n"
     ]
    }
   ],
   "source": [
    "def print_even(li):\n",
    "    \n",
    "    even = []\n",
    "    \n",
    "    for i in li:\n",
    "        if (i%2 == 0):\n",
    "            even.append(i)\n",
    "            \n",
    "    print(even)\n",
    "    \n",
    "x = [1, 2, 3, 4, 5, 6, 7, 8, 9] \n",
    "\n",
    "print_even(x)\n",
    "\n"
   ]
  },
  {
   "cell_type": "code",
   "execution_count": null,
   "metadata": {},
   "outputs": [],
   "source": []
  }
 ],
 "metadata": {
  "kernelspec": {
   "display_name": "Python 3",
   "language": "python",
   "name": "python3"
  },
  "language_info": {
   "codemirror_mode": {
    "name": "ipython",
    "version": 3
   },
   "file_extension": ".py",
   "mimetype": "text/x-python",
   "name": "python",
   "nbconvert_exporter": "python",
   "pygments_lexer": "ipython3",
   "version": "3.7.1"
  }
 },
 "nbformat": 4,
 "nbformat_minor": 2
}
