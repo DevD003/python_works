{
 "cells": [
  {
   "cell_type": "code",
   "execution_count": null,
   "metadata": {},
   "outputs": [],
   "source": [
    "print (\"Hello World!\")"
   ]
  },
  {
   "cell_type": "code",
   "execution_count": null,
   "metadata": {},
   "outputs": [],
   "source": [
    "print(\"Starting Jupyter notebook!\")"
   ]
  },
  {
   "cell_type": "code",
   "execution_count": null,
   "metadata": {},
   "outputs": [],
   "source": [
    "from random import *\n",
    "\n",
    "x=round(random()*100)\n",
    "\n",
    "while True:\n",
    "    \n",
    "    for i in range (0,10):\n",
    "        \n",
    "        inp = int(input())\n",
    "        \n",
    "        if inp > x :\n",
    "            print(\"Number is lower...chances used {}\".format(i))\n",
    "            continue\n",
    "            \n",
    "        elif inp < x :\n",
    "            print(\"Number is higher...chances used {}\".format (i))\n",
    "            continue\n",
    "            \n",
    "        else :\n",
    "            print (\"That is correct\")\n",
    "            print (\"Correct answer: {}\".format(x))\n",
    "            break                       "
   ]
  },
  {
   "cell_type": "code",
   "execution_count": null,
   "metadata": {},
   "outputs": [],
   "source": [
    "while True :\n",
    "    inp=input()\n",
    "    if inp != \"stop\":\n",
    "        print (\"continue while loop ...\")\n",
    "        continue \n",
    "    elif inp == \"stop\":\n",
    "        print (\"Breaking While loop ...\")\n",
    "        break"
   ]
  },
  {
   "cell_type": "code",
   "execution_count": null,
   "metadata": {},
   "outputs": [],
   "source": []
  },
  {
   "cell_type": "code",
   "execution_count": null,
   "metadata": {},
   "outputs": [],
   "source": []
  }
 ],
 "metadata": {
  "kernelspec": {
   "display_name": "Python 3",
   "language": "python",
   "name": "python3"
  },
  "language_info": {
   "codemirror_mode": {
    "name": "ipython",
    "version": 3
   },
   "file_extension": ".py",
   "mimetype": "text/x-python",
   "name": "python",
   "nbconvert_exporter": "python",
   "pygments_lexer": "ipython3",
   "version": "3.7.1"
  }
 },
 "nbformat": 4,
 "nbformat_minor": 2
}
