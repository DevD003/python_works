{
 "cells": [
  {
   "cell_type": "markdown",
   "metadata": {},
   "source": [
    "Error Handling is absolutely critical in all programming languages and this applies to Python as well. \n",
    "\n",
    "Why do we need to handle errors? A one line answer can be because we don't want our code to 'break' and we want to know what went wrong so we can fix the 'bugs'.\n",
    "\n",
    "So far we have only coded in Jupter python notebook and have not really reached outside into the real scripting and program building world. We will reach that in the next few sections.\n",
    "\n",
    "But basically we don't want our program to stop executing because of some unknown bugs. We want to catch those errors, write them in a log and let the program continue to execute"
   ]
  },
  {
   "cell_type": "code",
   "execution_count": null,
   "metadata": {},
   "outputs": [],
   "source": [
    "# Example of an error, divide by zero\n",
    "# we all know we can't divide by zero right? If not I am telling\n",
    "# you its not possible to divide by zero\n",
    "\n",
    "7/0"
   ]
  },
  {
   "cell_type": "code",
   "execution_count": null,
   "metadata": {},
   "outputs": [],
   "source": [
    "# You see we get a zero division error, this is a specific type of error \n",
    "# if the user divides by zero unintentionally we don't want\n",
    "# our code to break and exit the program\n",
    "# So how do we deal with this?\n",
    "# We deal with this by the try, except, finally and else"
   ]
  },
  {
   "cell_type": "markdown",
   "metadata": {},
   "source": [
    "Basic Syntax for try and except\n",
    "\n",
    "try:\n",
    "   try a block of code..\n",
    "except ExceptionI:\n",
    "   If there is ExceptionI, then execute this block.\n",
    "except ExceptionII:\n",
    "   If there is ExceptionII, then execute this block.\n",
    "   ...\n",
    "else (or finally):\n",
    "   For else statement, if there is no exception then execute this block. For finally statement this block of code will always be executed even if there was an exception.\n",
    "   "
   ]
  },
  {
   "cell_type": "code",
   "execution_count": null,
   "metadata": {},
   "outputs": [],
   "source": [
    "#Try, Except, Else Example\n",
    "# In real programs, programmers are encouraged to \n",
    "# match a specific error with an exception..\n",
    "# ie if page not found error occurs what happens etc\n",
    "\n",
    "# In this example lets try to catch the specific error \n",
    "# of division by zero from above\n",
    "\n",
    "try:\n",
    "    7/0 # we know this error will give us a error above\n",
    "        # so we can catch this with exception \n",
    "\n",
    "except ZeroDivisionError: \n",
    "    print(\"Hey print me out when divide by zero happens\")\n",
    "        "
   ]
  },
  {
   "cell_type": "markdown",
   "metadata": {},
   "source": [
    "You see in the above example the code did not break even though an error was encountered we only received an error message. "
   ]
  },
  {
   "cell_type": "code",
   "execution_count": null,
   "metadata": {},
   "outputs": [],
   "source": [
    "#Try except else\n",
    "try:\n",
    "    print(\"Code with no errors\")\n",
    "\n",
    "except:\n",
    "    print(\"Run this code if there is any error\")\n",
    "\n",
    "else:\n",
    "    print(\"No errors!\")"
   ]
  },
  {
   "cell_type": "markdown",
   "metadata": {},
   "source": [
    "In the above example two blocks of code was run. The try block was run successfully without errors and the else block as there were no errors. Now notice also that the except clause or statement had no specific error assigned. This is a catch all phrase. Any type of error will be caught."
   ]
  },
  {
   "cell_type": "code",
   "execution_count": null,
   "metadata": {},
   "outputs": [],
   "source": [
    "#Now if there is an error the else block will not run\n",
    "#Try except else, with error\n",
    "try:\n",
    "    7/0\n",
    "\n",
    "except:\n",
    "    print(\"Run this code if there is any error\")\n",
    "\n",
    "else:\n",
    "    print(\"No errors!\")\n",
    "\n",
    "#In this case only the except block was run."
   ]
  },
  {
   "cell_type": "code",
   "execution_count": null,
   "metadata": {},
   "outputs": [],
   "source": [
    "#Try, except, finally clause\n",
    "try:\n",
    "    7/0\n",
    "\n",
    "except:\n",
    "    print(\"Run this code if there is any error\")\n",
    "\n",
    "finally:\n",
    "    print(\"Run even if there are errors\")\n",
    "\n",
    "#The finally clause is run everytime even if errors occur"
   ]
  },
  {
   "cell_type": "code",
   "execution_count": null,
   "metadata": {},
   "outputs": [],
   "source": [
    "#Try except finally with no errors, they run in both cases\n",
    "try:\n",
    "    print(\"Code with no errors\")\n",
    "\n",
    "except:\n",
    "    print(\"Run this code if there is any error\")\n",
    "\n",
    "finally:\n",
    "    print(\"No errors!\")"
   ]
  },
  {
   "cell_type": "code",
   "execution_count": null,
   "metadata": {},
   "outputs": [],
   "source": [
    "#Example Using functions and while loops \n",
    "# we can create a function that checks whether or not\n",
    "# the user has a correct input.\n",
    "# check if user has input an integer for example\n",
    "# if they entered say a letter not an integer an error will trigger\n",
    "x = int(input())\n",
    "        "
   ]
  },
  {
   "cell_type": "code",
   "execution_count": null,
   "metadata": {},
   "outputs": [],
   "source": [
    "def correctInput():\n",
    "    try:\n",
    "        x = int(input())\n",
    "    except:\n",
    "        print(\"Please enter an integer!\")\n",
    "    \n",
    "    print(x)\n",
    "\n",
    "#If they don't enter a number with integer it will have an error"
   ]
  },
  {
   "cell_type": "code",
   "execution_count": null,
   "metadata": {},
   "outputs": [],
   "source": [
    "correctInput()"
   ]
  },
  {
   "cell_type": "code",
   "execution_count": null,
   "metadata": {},
   "outputs": [],
   "source": [
    "# We can use a while loop to keep asking the user\n",
    "def correctInput():\n",
    "    while True:\n",
    "        try:\n",
    "            x = int(input())  \n",
    "        except:\n",
    "            print(\"Please enter an integer!\")\n",
    "            continue\n",
    "        else:\n",
    "            print(\"Thanks for entering in an integer\")\n",
    "            break\n",
    "    print(x)\n",
    "\n",
    "#This way it will keep asking the user until the user enters\n",
    "#an integer"
   ]
  },
  {
   "cell_type": "code",
   "execution_count": null,
   "metadata": {},
   "outputs": [],
   "source": [
    "correctInput()"
   ]
  },
  {
   "cell_type": "code",
   "execution_count": null,
   "metadata": {},
   "outputs": [],
   "source": []
  },
  {
   "cell_type": "code",
   "execution_count": null,
   "metadata": {},
   "outputs": [],
   "source": [
    "ERROR HANDLING EXERCISE\n",
    "Ask the user to enter a number that is not 0. \n",
    "Our operation is to divide by the users input. \n",
    "Use the ZeroDivisionError to check as an exception and a \n",
    "catch all exception after that. Put everything into a function \n",
    "and call it. Print out the answer at the end. Use while loop to \n",
    "keep asking until user enters a number that is not 0.\n",
    "\n",
    "The user could enter something that is not a number or 0 in \n",
    "which case both would error out.\n",
    "\n",
    "Bonus challenge: Make the output answer appear with 3 decimal places.\n",
    "\n",
    "Hint: General structure of try except else clause\n",
    "\n",
    "#Float caters for decimal points as well\n",
    "try:\n",
    "    5/float(input()) \n",
    "    \n",
    "except ZeroDivisionError:\n",
    "    print()\n",
    "    \n",
    "except:\n",
    "    print()\n",
    "\n",
    "else:\n",
    "    ...\n"
   ]
  },
  {
   "cell_type": "code",
   "execution_count": 1,
   "metadata": {},
   "outputs": [],
   "source": [
    "def div_by_userinp():\n",
    "    while True:\n",
    "        try:\n",
    "            x=5/float(input())\n",
    "        except ZeroDivisionError:\n",
    "            print(\"Don't Enter Zero\")\n",
    "            continue\n",
    "        else:\n",
    "            print(\"Thanks for entering\")\n",
    "            print(\"{0:.3f}\".format(x))\n",
    "            break"
   ]
  },
  {
   "cell_type": "code",
   "execution_count": 3,
   "metadata": {},
   "outputs": [],
   "source": [
    "def notZero():\n",
    "    while True:\n",
    "        try:\n",
    "            print(\"Please enter a number that is not zero\")\n",
    "            #float caters for decimals as well\n",
    "            x = 5/float(input())\n",
    "            \n",
    "        except ZeroDivisionError:\n",
    "            print(\"Don't enter zero!\")\n",
    "            continue\n",
    "        except:\n",
    "            continue\n",
    "        else:\n",
    "            print(\"thanks for entering a number that is not zero\")\n",
    "            break\n",
    "    \n",
    "    # Format this so that only 3 decimal places appear\n",
    "    # 0 represents the first variable to be formatted\n",
    "    # :.3f says to 3 decimal places\n",
    "    print(\"{0:.3f}\".format(x))"
   ]
  },
  {
   "cell_type": "code",
   "execution_count": null,
   "metadata": {},
   "outputs": [],
   "source": [
    "notZero()"
   ]
  },
  {
   "cell_type": "code",
   "execution_count": null,
   "metadata": {},
   "outputs": [],
   "source": []
  }
 ],
 "metadata": {
  "kernelspec": {
   "display_name": "Python 3",
   "language": "python",
   "name": "python3"
  },
  "language_info": {
   "codemirror_mode": {
    "name": "ipython",
    "version": 3
   },
   "file_extension": ".py",
   "mimetype": "text/x-python",
   "name": "python",
   "nbconvert_exporter": "python",
   "pygments_lexer": "ipython3",
   "version": "3.7.1"
  }
 },
 "nbformat": 4,
 "nbformat_minor": 2
}
