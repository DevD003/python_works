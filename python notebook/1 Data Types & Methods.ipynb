{
 "cells": [
  {
   "cell_type": "code",
   "execution_count": 1,
   "metadata": {},
   "outputs": [
    {
     "name": "stdout",
     "output_type": "stream",
     "text": [
      "6\n",
      "<class 'int'>\n"
     ]
    }
   ],
   "source": [
    "x = 6\n",
    "print(x)\n",
    "print(type(x))"
   ]
  },
  {
   "cell_type": "code",
   "execution_count": 6,
   "metadata": {},
   "outputs": [
    {
     "name": "stdout",
     "output_type": "stream",
     "text": [
      "5\n",
      "<class 'int'>\n",
      "6.5\n",
      "<class 'float'>\n",
      "[1, 2]\n",
      "<class 'list'>\n",
      "(1, 2)\n",
      "<class 'tuple'>\n",
      "True\n",
      "<class 'bool'>\n",
      "'asdf'\n",
      "<class 'str'>\n",
      "{'hi': 5, 'you': True, 'there?': [1, 2]}\n",
      "<class 'dict'>\n"
     ]
    }
   ],
   "source": [
    "# Python Comments are with a hashtag\n",
    "# Simply set a variable\n",
    "x = 5 # this is an integer\n",
    "\n",
    "print(x)\n",
    "\n",
    "#Find type class type of x\n",
    "print(type(x))\n",
    "\n",
    "#Values can be reassigned\n",
    "x = 6.5 #Type float - Decimals\n",
    "print (x)\n",
    "print(type(x))\n",
    "\n",
    "# Lists\n",
    "y = [1,2] #Array of values\n",
    "print (y)\n",
    "print(type(y))\n",
    "\n",
    "# Tuples same as lists but cannot be amended. Immutable data type.\n",
    "# However tuples can be reassigned.\n",
    "# We will cover more of this later.\n",
    "y = (1,2)\n",
    "print (y)\n",
    "print(type(y))\n",
    "\n",
    "# Boolean\n",
    "y = True #or False\n",
    "print (y)\n",
    "print(type(y))\n",
    "\n",
    "#String\n",
    "y = \"'asdf'\"\n",
    "print (y)\n",
    "print(type(y))\n",
    "\n",
    "#Dictionary, key value pairs, can contain a key with \n",
    "#different types of values, ie Bool, int, lists etc\n",
    "\n",
    "y = {\"hi\": 5, \"you\": True, \"there?\": [1,2]}\n",
    "print (y)\n",
    "print(type(y))"
   ]
  },
  {
   "cell_type": "markdown",
   "metadata": {},
   "source": [
    "In Python Data Types are automagically assigned to the variable and not defined before hand. So it is very different from say Java. Variables can be reassigned as well."
   ]
  },
  {
   "cell_type": "markdown",
   "metadata": {},
   "source": [
    "Lets Dive a little deeper into these types and do something with them!"
   ]
  },
  {
   "cell_type": "markdown",
   "metadata": {},
   "source": [
    "INTEGERS & FLOATS"
   ]
  },
  {
   "cell_type": "code",
   "execution_count": 39,
   "metadata": {},
   "outputs": [
    {
     "name": "stdout",
     "output_type": "stream",
     "text": [
      "15\n",
      "10\n"
     ]
    }
   ],
   "source": [
    "# Integers and floats\n",
    "x = 5\n",
    "x = x + 5 # 10\n",
    "\n",
    "#short of of saying x = x + 5\n",
    "x += 5 \n",
    "print(x) #15\n",
    "\n",
    "#of course the opposite also applies\n",
    "x -= 5  #x = x - 5\n",
    "print(x)"
   ]
  },
  {
   "cell_type": "code",
   "execution_count": 36,
   "metadata": {},
   "outputs": [
    {
     "name": "stdout",
     "output_type": "stream",
     "text": [
      "<class 'float'>\n",
      "<class 'float'>\n",
      "<class 'float'>\n",
      "10.0\n"
     ]
    }
   ],
   "source": [
    "# Now what if we add integers and floats what is the resulting type?\n",
    "x = 2.5 # float\n",
    "y = 4 # int\n",
    "print(type(x+y))\n",
    "print(type(x/y))\n",
    "print(type(x*y))\n",
    "print(x*y)\n",
    "\n",
    "#When mathematical operation is done to an integer and float\n",
    "#The result will always be a float! Even if the answer is an 'integer'\n",
    "#But notice the 10.0 not just 10"
   ]
  },
  {
   "cell_type": "code",
   "execution_count": 10,
   "metadata": {},
   "outputs": [
    {
     "ename": "ZeroDivisionError",
     "evalue": "float division by zero",
     "output_type": "error",
     "traceback": [
      "\u001b[1;31m---------------------------------------------------------------------------\u001b[0m",
      "\u001b[1;31mZeroDivisionError\u001b[0m                         Traceback (most recent call last)",
      "\u001b[1;32m<ipython-input-10-56d8c03946bf>\u001b[0m in \u001b[0;36m<module>\u001b[1;34m\u001b[0m\n\u001b[0;32m      2\u001b[0m \u001b[0mx\u001b[0m \u001b[1;33m=\u001b[0m \u001b[1;36m0\u001b[0m\u001b[1;33m\u001b[0m\u001b[1;33m\u001b[0m\u001b[0m\n\u001b[0;32m      3\u001b[0m \u001b[0my\u001b[0m \u001b[1;33m=\u001b[0m \u001b[1;36m5.5\u001b[0m\u001b[1;33m\u001b[0m\u001b[1;33m\u001b[0m\u001b[0m\n\u001b[1;32m----> 4\u001b[1;33m \u001b[0my\u001b[0m \u001b[1;33m/\u001b[0m \u001b[0mx\u001b[0m\u001b[1;33m\u001b[0m\u001b[1;33m\u001b[0m\u001b[0m\n\u001b[0m",
      "\u001b[1;31mZeroDivisionError\u001b[0m: float division by zero"
     ]
    }
   ],
   "source": [
    "# Divide by 0, normal mathematical rules apply here as well\n",
    "x = 0\n",
    "y = 5.5\n",
    "y / x"
   ]
  },
  {
   "cell_type": "code",
   "execution_count": 11,
   "metadata": {},
   "outputs": [
    {
     "name": "stdout",
     "output_type": "stream",
     "text": [
      "<class 'float'>\n",
      "5\n",
      "<class 'int'>\n",
      "5.0\n",
      "<class 'float'>\n"
     ]
    }
   ],
   "source": [
    "# Changing from one to the other\n",
    "x = 5.9 \n",
    "print(type(x)) #float\n",
    "\n",
    "#use int(float) to change it to an int, and it rounds down\n",
    "print(int(x))\n",
    "print(type(int(x)))\n",
    "\n",
    "# Change from int to float\n",
    "x = 5\n",
    "print(float(x))\n",
    "print(type(float(x)))\n"
   ]
  },
  {
   "cell_type": "markdown",
   "metadata": {},
   "source": [
    "Lists and Tuples"
   ]
  },
  {
   "cell_type": "code",
   "execution_count": 7,
   "metadata": {},
   "outputs": [
    {
     "name": "stdout",
     "output_type": "stream",
     "text": [
      "1\n",
      "3\n",
      "4\n"
     ]
    }
   ],
   "source": [
    "#Lists\n",
    "x = [1,2,3,4]\n",
    "\n",
    "#Retrieving something from a list\n",
    "x[0] # this equals 1, lists in python are zero indexed.\n",
    "print(x[0])\n",
    "print(x[2])\n",
    "\n",
    "#this is out of range\n",
    "print(x[3])\n"
   ]
  },
  {
   "cell_type": "code",
   "execution_count": 95,
   "metadata": {},
   "outputs": [
    {
     "name": "stdout",
     "output_type": "stream",
     "text": [
      "[1, 2, 3, 1]\n",
      "[1, 2, 3, 1, {'I am a dict type': 3}]\n",
      "[1, 2, 3, 1, {'I am a dict type': 3}, 1, 2, 3]\n",
      "{'I am a dict type': 3}\n",
      "[1, 2, 3, 1, 1, 2, 3]\n",
      "2\n",
      "4\n"
     ]
    }
   ],
   "source": [
    "# Common list methods/uses, can see more options by googling on going \n",
    "# to vscode. I will show you a few of the most frequently used methods.\n",
    "x = [1,2,3]\n",
    "#append, add something to a list at the end\n",
    "x.append(1)\n",
    "print(x)\n",
    "\n",
    "#Of course can append any other type as well\n",
    "x.append({\"I am a dict type\": 3})\n",
    "print(x)\n",
    "\n",
    "#Now you can add using + as well, but only for other list types\n",
    "x = x + [1,2,3] # if you add just a str or number it will return an error\n",
    "print(x)\n",
    "\n",
    "# pop, pop removes an element out of the list and adds it to the variable\n",
    "y = x.pop(4)\n",
    "#this grabs the dictionary at position 4\n",
    "print(y)\n",
    "# the dict type is removed from variable x\n",
    "print(x)\n",
    "\n",
    "# count, counts the number of occurances within the list\n",
    "x = [1,2,3,3]\n",
    "# the number 3 occurs 2 times in the list above\n",
    "print(x.count(3))\n",
    "\n",
    "# len, gets the length of the list, extremely useful in for loops\n",
    "# which we will cover later\n",
    "print(len(x))"
   ]
  },
  {
   "cell_type": "code",
   "execution_count": 13,
   "metadata": {},
   "outputs": [
    {
     "name": "stdout",
     "output_type": "stream",
     "text": [
      "1\n"
     ]
    },
    {
     "ename": "AttributeError",
     "evalue": "'tuple' object has no attribute 'append'",
     "output_type": "error",
     "traceback": [
      "\u001b[0;31m---------------------------------------------------------------------------\u001b[0m",
      "\u001b[0;31mAttributeError\u001b[0m                            Traceback (most recent call last)",
      "\u001b[0;32m<ipython-input-13-443e2089226a>\u001b[0m in \u001b[0;36m<module>\u001b[0;34m()\u001b[0m\n\u001b[1;32m      8\u001b[0m \u001b[0;34m\u001b[0m\u001b[0m\n\u001b[1;32m      9\u001b[0m \u001b[0;31m#You can't append to the tuple\u001b[0m\u001b[0;34m\u001b[0m\u001b[0;34m\u001b[0m\u001b[0m\n\u001b[0;32m---> 10\u001b[0;31m \u001b[0mtup\u001b[0m\u001b[0;34m.\u001b[0m\u001b[0mappend\u001b[0m\u001b[0;34m(\u001b[0m\u001b[0;36m1\u001b[0m\u001b[0;34m)\u001b[0m\u001b[0;34m\u001b[0m\u001b[0m\n\u001b[0m\u001b[1;32m     11\u001b[0m \u001b[0;34m\u001b[0m\u001b[0m\n\u001b[1;32m     12\u001b[0m \u001b[0;31m#Why do you use it? Sometimes we have a few items we don't want 'changed' for example you birthdate.\u001b[0m\u001b[0;34m\u001b[0m\u001b[0;34m\u001b[0m\u001b[0m\n",
      "\u001b[0;31mAttributeError\u001b[0m: 'tuple' object has no attribute 'append'"
     ]
    }
   ],
   "source": [
    "#Tuples are exactly the same as lists however it is immutable\n",
    "#meaning you cannot append, remove or change its values\n",
    "#that been said, you can reassign the tuple. \n",
    "#Tuples can be used if there is an important list that you don't want to change\n",
    "tup = (1,2,3) #[1,2,3]\n",
    "#getting values\n",
    "print(tup[0])\n",
    "\n",
    "#You can't append to the tuple\n",
    "tup.append(1)\n",
    "\n",
    "#Why do you use it? Sometimes we have a few items we don't want 'changed' for example you birthdate."
   ]
  },
  {
   "cell_type": "code",
   "execution_count": 15,
   "metadata": {},
   "outputs": [
    {
     "name": "stdout",
     "output_type": "stream",
     "text": [
      "2\n",
      "1\n",
      "6\n",
      "8\n",
      " i am groot \n",
      " I AM GROOT \n",
      "12\n",
      "10\n",
      "a,b,c\n",
      "['a', 'b', 'c']\n"
     ]
    }
   ],
   "source": [
    "#We will skip Boolean as it is pretty straight forward just True of False,\n",
    "#STRINGS\n",
    "x = \" I am Groot \"\n",
    "\n",
    "#count, again count occurances of a character or phrase in the string\n",
    "print(x.count(\"o\")) #2\n",
    "print(x.count(\"Groot\")) #1\n",
    "\n",
    "#find, find a phrase or the first character and return its index\n",
    "print(x.find(\"Groot\")) #6\n",
    "print(x.find(\"o\")) #8\n",
    "\n",
    "#lower, lower cases all the characters in the string\n",
    "print(x.lower()) # notics G is now a g\n",
    "\n",
    "#upper, upper cases all the characters in the string\n",
    "print(x.upper()) # I AM GROOT \n",
    "\n",
    "# strip, strips the spaces from the right and left side of the string\n",
    "print(len(x)) #12\n",
    "print(len(x.strip())) #10 (after stripping the space each side)\n",
    "\n",
    "# join, joins the list of strings into a single string\n",
    "li = [\"a\",\"b\", \"c\"] #list must be strings\n",
    "print(\",\".join(li)) #join with a comma in between\n",
    "\n",
    "# split, splits a string into a list of strings,\n",
    "# splits by comma, this command is very useful for dealing with CSV files\n",
    "# CSV is comma delimited files.\n",
    "print(\"a,b,c\".split(\",\"))\n"
   ]
  },
  {
   "cell_type": "code",
   "execution_count": 17,
   "metadata": {},
   "outputs": [
    {
     "name": "stdout",
     "output_type": "stream",
     "text": [
      "dict_keys(['hi', 'you', 'there?', 5])\n",
      "5\n",
      "5\n",
      "dict_items([('hi', 5), ('you', True), ('there?', [1, 2]), (5, 5)])\n",
      "dict_values([5, True, [1, 2], 5])\n"
     ]
    }
   ],
   "source": [
    "#DICTIONARIES\n",
    "#Basically key value pairs\n",
    "x = {\"hi\": 5, \"you\": True, \"there?\": [1,2], 5:5}\n",
    "\n",
    "#The keys to the above dictionary is hi, you and there?\n",
    "print(x.keys())\n",
    "\n",
    "#you can retrieve the values of those keys by knowing the key\n",
    "print(x[\"hi\"])\n",
    "print(x.get(\"hi\"))  #this has to be the key, \n",
    "                    #if you try to get the keys by entering\n",
    "                    #the value it will return none\n",
    "        \n",
    "# items, returns the key value pairs of the dictionary\n",
    "print(x.items())\n",
    "\n",
    "# values, returns the values of the dictionary\n",
    "print(x.values())\n"
   ]
  },
  {
   "cell_type": "code",
   "execution_count": 18,
   "metadata": {},
   "outputs": [
    {
     "name": "stdout",
     "output_type": "stream",
     "text": [
      "I am a string \n",
      "I am a string 5\n",
      "Print five: 5, six: 6, and seven: 7\n"
     ]
    }
   ],
   "source": [
    "#PRINTING FORMAT\n",
    "#This is very commonly used for all sorts of projects\n",
    "#I will show you here as it is very important and fundamental\n",
    "x = 5\n",
    "print(\"I am a string \")\n",
    "#print(\"I am a string\" + x) # this will return an error..\n",
    "print(\"I am a string \" + str(x))\n",
    "\n",
    "#you can also attach multiple values to a string to output!\n",
    "y = 6\n",
    "z = 7\n",
    " \n",
    "#This is cool isn't it?\n",
    "print(\"Print five: {0}, six: {1}, and seven: {2}\".format(x, y, z))\n"
   ]
  },
  {
   "cell_type": "code",
   "execution_count": null,
   "metadata": {},
   "outputs": [],
   "source": []
  }
 ],
 "metadata": {
  "kernelspec": {
   "display_name": "Python 3",
   "language": "python",
   "name": "python3"
  },
  "language_info": {
   "codemirror_mode": {
    "name": "ipython",
    "version": 3
   },
   "file_extension": ".py",
   "mimetype": "text/x-python",
   "name": "python",
   "nbconvert_exporter": "python",
   "pygments_lexer": "ipython3",
   "version": "3.7.1"
  }
 },
 "nbformat": 4,
 "nbformat_minor": 2
}
